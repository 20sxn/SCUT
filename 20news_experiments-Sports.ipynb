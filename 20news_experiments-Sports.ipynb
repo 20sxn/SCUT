{
 "cells": [
  {
   "cell_type": "code",
   "execution_count": 8,
   "id": "303c24c3-2428-43a8-8c9a-038b5eb8ac69",
   "metadata": {},
   "outputs": [],
   "source": [
    "import pickle\n",
    "from sklearn.datasets import fetch_20newsgroups_vectorized\n",
    "from sklearn.feature_extraction.text import TfidfTransformer\n",
    "import numpy as np\n",
    "\n",
    "newsgroups_vectorized = fetch_20newsgroups_vectorized(subset='all')\n",
    "tfidf = TfidfTransformer()\n",
    "tfidf_data = tfidf.fit_transform(newsgroups_vectorized.data)\n",
    "data = tfidf_data.toarray().astype(np.float32)\n",
    "sum_col = data.sum(0)\n",
    "feature_names = newsgroups_vectorized.feature_names[np.where(sum_col > 2)]"
   ]
  },
  {
   "cell_type": "code",
   "execution_count": 4,
   "id": "c2a0d3ee-9161-427a-8e3d-c6a639571246",
   "metadata": {},
   "outputs": [],
   "source": [
    "with open(\"trees/20newsgroups.pkl\", \"rb\") as input_file:\n",
    "    e = pickle.load(input_file)"
   ]
  },
  {
   "cell_type": "code",
   "execution_count": 6,
   "id": "c72168d9-fa5a-4dac-8aae-49f81745a767",
   "metadata": {},
   "outputs": [],
   "source": [
    "sport = (e&\"I6729\") #find correct subtree corresponding to sport cluster"
   ]
  },
  {
   "cell_type": "code",
   "execution_count": 11,
   "id": "b88c948e-5c19-4c05-bae6-751a407c57e5",
   "metadata": {},
   "outputs": [
    {
     "name": "stdout",
     "output_type": "stream",
     "text": [
      "pos\n",
      "duke 0.08484277\n",
      "fls 0.07386785\n",
      "bonds 0.070593745\n",
      "econ 0.06854275\n",
      "batting 0.06631484\n",
      "adobe 0.066042125\n",
      "gant 0.06285492\n",
      "hitter 0.060145963\n",
      "giants 0.060099356\n",
      "sherri 0.059614297\n",
      "\n",
      "neg\n",
      "buffalo -0.08625068\n",
      "hockey -0.07195799\n",
      "hammerl -0.06803158\n",
      "leafs -0.067216456\n",
      "ca -0.06408965\n",
      "espn -0.062182557\n",
      "wings -0.05938835\n",
      "nhl -0.059379566\n",
      "pens -0.05880089\n",
      "bruins -0.056383837\n"
     ]
    }
   ],
   "source": [
    "V = e.V\n",
    "\n",
    "order = V.argsort()\n",
    "\n",
    "biggest5 = order[-10:]\n",
    "lowest5 = order[:10]\n",
    "\n",
    "print(\"pos\")\n",
    "for i in np.flip(biggest5):\n",
    "    print(feature_names[i],V[i])\n",
    "print()\n",
    "print(\"neg\")\n",
    "\n",
    "for i in lowest5:\n",
    "    print(feature_names[i],V[i])\n",
    "print()"
   ]
  },
  {
   "cell_type": "code",
   "execution_count": null,
   "id": "8222c4a5-2ff1-4100-86a7-d414532b5155",
   "metadata": {},
   "outputs": [],
   "source": []
  }
 ],
 "metadata": {
  "kernelspec": {
   "display_name": "Python 3 (ipykernel)",
   "language": "python",
   "name": "python3"
  },
  "language_info": {
   "codemirror_mode": {
    "name": "ipython",
    "version": 3
   },
   "file_extension": ".py",
   "mimetype": "text/x-python",
   "name": "python",
   "nbconvert_exporter": "python",
   "pygments_lexer": "ipython3",
   "version": "3.11.5"
  }
 },
 "nbformat": 4,
 "nbformat_minor": 5
}
